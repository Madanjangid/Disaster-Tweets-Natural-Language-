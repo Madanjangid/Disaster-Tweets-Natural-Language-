{
  "cells": [
    {
      "cell_type": "code",
      "execution_count": null,
      "metadata": {
        "id": "b3ea5ae3"
      },
      "outputs": [],
      "source": [
        
        "import numpy as np # linear algebra\n",
        "import pandas as pd # data processing, CSV file I/O (e.g. pd.read_csv)\n",
        "import tensorflow as tf\n",
        "# Input data files are available in the read-only \"../input/\" directory\n",
        "# For example, running this (by clicking run or pressing Shift+Enter) will list all files under the input directory\n",
        "\n",
        "import os\n",
        "for dirname, _, filenames in os.walk('/kaggle/input'):\n",
        "    for filename in filenames:\n",
        "        print(os.path.join(dirname, filename))\n",
        "\n",
        "# You can write up to 20GB to the current directory (/kaggle/working/) that gets preserved as output when you create a version using \"Save & Run All\" \n",
        "# You can also write temporary files to /kaggle/temp/, but they won't be saved outside of the current session"
      ],
      "id": "b3ea5ae3"
    },
    {
      "cell_type": "code",
      "execution_count": null,
      "metadata": {
        "colab": {
          "background_save": true
        },
        "id": "4d640f76",
        "outputId": "e6cc163e-5101-42c7-e1a9-685c739e80f7"
      },
      "outputs": [
        {
          "name": "stdout",
          "output_type": "stream",
          "text": [
            "Number of replicas: 1\n"
          ]
        }
      ],
      "source": [
        "try:\n",
        "    tpu = tf.distribute.cluster_resolver.TPUClusterResolver()\n",
        "    tf.config.experimental_connect_to_cluster(tpu)\n",
        "    tf.tpu.experimental.initialize_tpu_system(tpu)\n",
        "    strategy = tf.distribute.experimental.TPUStrategy(tpu)\n",
        "except ValueError:\n",
        "    strategy = tf.distribute.get_strategy() # for CPU and single GPU\n",
        "    print('Number of replicas:', strategy.num_replicas_in_sync)"
      ],
      "id": "4d640f76"
    },
    {
      "cell_type": "markdown",
      "metadata": {
        "id": "75b86323"
      },
      "source": [
        "# Import Libraries"
      ],
      "id": "75b86323"
    },
    {
      "cell_type": "code",
      "execution_count": null,
      "metadata": {
        "id": "80cbfae9"
      },
      "outputs": [],
      "source": [
        "import seaborn as sns\n",
        "import matplotlib.pyplot as plt\n",
        "from sklearn.model_selection import train_test_split\n",
        "from sklearn.ensemble import RandomForestClassifier\n",
        "from sklearn.naive_bayes import MultinomialNB\n",
        "from sklearn.metrics import accuracy_score\n",
        "import nltk\n",
        "import nltk.corpus\n",
        "import re\n",
        "import string\n",
        "from nltk.corpus import stopwords\n",
        "import gensim"
      ],
      "id": "80cbfae9"
    },
    {
      "cell_type": "markdown",
      "metadata": {
        "id": "4000ea31"
      },
      "source": [
        "# Load Data"
      ],
      "id": "4000ea31"
    },
    {
      "cell_type": "code",
      "execution_count": null,
      "metadata": {
        "id": "b0788215"
      },
      "outputs": [],
      "source": [
        "train_data=pd.read_csv('/content/train.csv')\n",
        "test_data=pd.read_csv('/content/test.csv')\n",
        "submission=pd.read_csv('/content/sample_submission.csv')"
      ],
      "id": "b0788215"
    },
    {
      "cell_type": "markdown",
      "metadata": {
        "id": "0d93af16"
      },
      "source": [
        "# Data preprocessing"
      ],
      "id": "0d93af16"
    },
    {
      "cell_type": "code",
      "execution_count": null,
      "metadata": {
        "id": "09d0828b",
        "outputId": "98e08820-1c04-4d2f-9041-a96f8493c129"
      },
      "outputs": [
        {
          "data": {
            "text/html": [
              "<div>\n",
              "<style scoped>\n",
              "    .dataframe tbody tr th:only-of-type {\n",
              "        vertical-align: middle;\n",
              "    }\n",
              "\n",
              "    .dataframe tbody tr th {\n",
              "        vertical-align: top;\n",
              "    }\n",
              "\n",
              "    .dataframe thead th {\n",
              "        text-align: right;\n",
              "    }\n",
              "</style>\n",
              "<table border=\"1\" class=\"dataframe\">\n",
              "  <thead>\n",
              "    <tr style=\"text-align: right;\">\n",
              "      <th></th>\n",
              "      <th>id</th>\n",
              "      <th>keyword</th>\n",
              "      <th>location</th>\n",
              "      <th>text</th>\n",
              "      <th>target</th>\n",
              "    </tr>\n",
              "  </thead>\n",
              "  <tbody>\n",
              "    <tr>\n",
              "      <th>0</th>\n",
              "      <td>1</td>\n",
              "      <td>NaN</td>\n",
              "      <td>NaN</td>\n",
              "      <td>Our Deeds are the Reason of this #earthquake M...</td>\n",
              "      <td>1</td>\n",
              "    </tr>\n",
              "    <tr>\n",
              "      <th>1</th>\n",
              "      <td>4</td>\n",
              "      <td>NaN</td>\n",
              "      <td>NaN</td>\n",
              "      <td>Forest fire near La Ronge Sask. Canada</td>\n",
              "      <td>1</td>\n",
              "    </tr>\n",
              "    <tr>\n",
              "      <th>2</th>\n",
              "      <td>5</td>\n",
              "      <td>NaN</td>\n",
              "      <td>NaN</td>\n",
              "      <td>All residents asked to 'shelter in place' are ...</td>\n",
              "      <td>1</td>\n",
              "    </tr>\n",
              "    <tr>\n",
              "      <th>3</th>\n",
              "      <td>6</td>\n",
              "      <td>NaN</td>\n",
              "      <td>NaN</td>\n",
              "      <td>13,000 people receive #wildfires evacuation or...</td>\n",
              "      <td>1</td>\n",
              "    </tr>\n",
              "    <tr>\n",
              "      <th>4</th>\n",
              "      <td>7</td>\n",
              "      <td>NaN</td>\n",
              "      <td>NaN</td>\n",
              "      <td>Just got sent this photo from Ruby #Alaska as ...</td>\n",
              "      <td>1</td>\n",
              "    </tr>\n",
              "  </tbody>\n",
              "</table>\n",
              "</div>"
            ],
            "text/plain": [
              "   id keyword location                                               text  \\\n",
              "0   1     NaN      NaN  Our Deeds are the Reason of this #earthquake M...   \n",
              "1   4     NaN      NaN             Forest fire near La Ronge Sask. Canada   \n",
              "2   5     NaN      NaN  All residents asked to 'shelter in place' are ...   \n",
              "3   6     NaN      NaN  13,000 people receive #wildfires evacuation or...   \n",
              "4   7     NaN      NaN  Just got sent this photo from Ruby #Alaska as ...   \n",
              "\n",
              "   target  \n",
              "0       1  \n",
              "1       1  \n",
              "2       1  \n",
              "3       1  \n",
              "4       1  "
            ]
          },
          "execution_count": 5,
          "metadata": {},
          "output_type": "execute_result"
        }
      ],
      "source": [
        "train_data.head()"
      ],
      "id": "09d0828b"
    },
    {
      "cell_type": "code",
      "execution_count": null,
      "metadata": {
        "id": "8ac9458b",
        "outputId": "3bcc5d3d-ad01-40ec-ad6e-c4f72ba91503"
      },
      "outputs": [
        {
          "data": {
            "text/html": [
              "<div>\n",
              "<style scoped>\n",
              "    .dataframe tbody tr th:only-of-type {\n",
              "        vertical-align: middle;\n",
              "    }\n",
              "\n",
              "    .dataframe tbody tr th {\n",
              "        vertical-align: top;\n",
              "    }\n",
              "\n",
              "    .dataframe thead th {\n",
              "        text-align: right;\n",
              "    }\n",
              "</style>\n",
              "<table border=\"1\" class=\"dataframe\">\n",
              "  <thead>\n",
              "    <tr style=\"text-align: right;\">\n",
              "      <th></th>\n",
              "      <th>id</th>\n",
              "      <th>text</th>\n",
              "      <th>target</th>\n",
              "    </tr>\n",
              "  </thead>\n",
              "  <tbody>\n",
              "    <tr>\n",
              "      <th>0</th>\n",
              "      <td>1</td>\n",
              "      <td>Our Deeds are the Reason of this #earthquake M...</td>\n",
              "      <td>1</td>\n",
              "    </tr>\n",
              "    <tr>\n",
              "      <th>1</th>\n",
              "      <td>4</td>\n",
              "      <td>Forest fire near La Ronge Sask. Canada</td>\n",
              "      <td>1</td>\n",
              "    </tr>\n",
              "  </tbody>\n",
              "</table>\n",
              "</div>"
            ],
            "text/plain": [
              "   id                                               text  target\n",
              "0   1  Our Deeds are the Reason of this #earthquake M...       1\n",
              "1   4             Forest fire near La Ronge Sask. Canada       1"
            ]
          },
          "execution_count": 6,
          "metadata": {},
          "output_type": "execute_result"
        }
      ],
      "source": [
        "train_data=train_data.drop([\"keyword\",\"location\"],axis=1)\n",
        "test_data=test_data.drop([\"keyword\",\"location\"],axis=1)\n",
        "\n",
        "train_data.head(2)"
      ],
      "id": "8ac9458b"
    },
    {
      "cell_type": "code",
      "execution_count": null,
      "metadata": {
        "id": "3b3204f5",
        "outputId": "f708d939-024c-403d-f73a-72f32ecde2e7"
      },
      "outputs": [
        {
          "data": {
            "text/plain": [
              "pandas.core.frame.DataFrame"
            ]
          },
          "execution_count": 7,
          "metadata": {},
          "output_type": "execute_result"
        }
      ],
      "source": [
        "type(train_data)"
      ],
      "id": "3b3204f5"
    },
    {
      "cell_type": "code",
      "execution_count": null,
      "metadata": {
        "id": "bbf3763b"
      },
      "outputs": [],
      "source": [
        "total_data= pd.concat([train_data,test_data],axis=0,ignore_index=True)"
      ],
      "id": "bbf3763b"
    },
    {
      "cell_type": "code",
      "execution_count": null,
      "metadata": {
        "id": "16480808",
        "outputId": "6f0ca160-2617-471f-a1ba-d74ccd04001f"
      },
      "outputs": [
        {
          "data": {
            "text/html": [
              "<div>\n",
              "<style scoped>\n",
              "    .dataframe tbody tr th:only-of-type {\n",
              "        vertical-align: middle;\n",
              "    }\n",
              "\n",
              "    .dataframe tbody tr th {\n",
              "        vertical-align: top;\n",
              "    }\n",
              "\n",
              "    .dataframe thead th {\n",
              "        text-align: right;\n",
              "    }\n",
              "</style>\n",
              "<table border=\"1\" class=\"dataframe\">\n",
              "  <thead>\n",
              "    <tr style=\"text-align: right;\">\n",
              "      <th></th>\n",
              "      <th>id</th>\n",
              "      <th>text</th>\n",
              "      <th>target</th>\n",
              "    </tr>\n",
              "  </thead>\n",
              "  <tbody>\n",
              "    <tr>\n",
              "      <th>0</th>\n",
              "      <td>1</td>\n",
              "      <td>Our Deeds are the Reason of this #earthquake M...</td>\n",
              "      <td>1.0</td>\n",
              "    </tr>\n",
              "    <tr>\n",
              "      <th>1</th>\n",
              "      <td>4</td>\n",
              "      <td>Forest fire near La Ronge Sask. Canada</td>\n",
              "      <td>1.0</td>\n",
              "    </tr>\n",
              "    <tr>\n",
              "      <th>2</th>\n",
              "      <td>5</td>\n",
              "      <td>All residents asked to 'shelter in place' are ...</td>\n",
              "      <td>1.0</td>\n",
              "    </tr>\n",
              "    <tr>\n",
              "      <th>3</th>\n",
              "      <td>6</td>\n",
              "      <td>13,000 people receive #wildfires evacuation or...</td>\n",
              "      <td>1.0</td>\n",
              "    </tr>\n",
              "    <tr>\n",
              "      <th>4</th>\n",
              "      <td>7</td>\n",
              "      <td>Just got sent this photo from Ruby #Alaska as ...</td>\n",
              "      <td>1.0</td>\n",
              "    </tr>\n",
              "    <tr>\n",
              "      <th>...</th>\n",
              "      <td>...</td>\n",
              "      <td>...</td>\n",
              "      <td>...</td>\n",
              "    </tr>\n",
              "    <tr>\n",
              "      <th>10871</th>\n",
              "      <td>10861</td>\n",
              "      <td>EARTHQUAKE SAFETY LOS ANGELES ÛÒ SAFETY FASTE...</td>\n",
              "      <td>NaN</td>\n",
              "    </tr>\n",
              "    <tr>\n",
              "      <th>10872</th>\n",
              "      <td>10865</td>\n",
              "      <td>Storm in RI worse than last hurricane. My city...</td>\n",
              "      <td>NaN</td>\n",
              "    </tr>\n",
              "    <tr>\n",
              "      <th>10873</th>\n",
              "      <td>10868</td>\n",
              "      <td>Green Line derailment in Chicago http://t.co/U...</td>\n",
              "      <td>NaN</td>\n",
              "    </tr>\n",
              "    <tr>\n",
              "      <th>10874</th>\n",
              "      <td>10874</td>\n",
              "      <td>MEG issues Hazardous Weather Outlook (HWO) htt...</td>\n",
              "      <td>NaN</td>\n",
              "    </tr>\n",
              "    <tr>\n",
              "      <th>10875</th>\n",
              "      <td>10875</td>\n",
              "      <td>#CityofCalgary has activated its Municipal Eme...</td>\n",
              "      <td>NaN</td>\n",
              "    </tr>\n",
              "  </tbody>\n",
              "</table>\n",
              "<p>10876 rows × 3 columns</p>\n",
              "</div>"
            ],
            "text/plain": [
              "          id                                               text  target\n",
              "0          1  Our Deeds are the Reason of this #earthquake M...     1.0\n",
              "1          4             Forest fire near La Ronge Sask. Canada     1.0\n",
              "2          5  All residents asked to 'shelter in place' are ...     1.0\n",
              "3          6  13,000 people receive #wildfires evacuation or...     1.0\n",
              "4          7  Just got sent this photo from Ruby #Alaska as ...     1.0\n",
              "...      ...                                                ...     ...\n",
              "10871  10861  EARTHQUAKE SAFETY LOS ANGELES ÛÒ SAFETY FASTE...     NaN\n",
              "10872  10865  Storm in RI worse than last hurricane. My city...     NaN\n",
              "10873  10868  Green Line derailment in Chicago http://t.co/U...     NaN\n",
              "10874  10874  MEG issues Hazardous Weather Outlook (HWO) htt...     NaN\n",
              "10875  10875  #CityofCalgary has activated its Municipal Eme...     NaN\n",
              "\n",
              "[10876 rows x 3 columns]"
            ]
          },
          "execution_count": 9,
          "metadata": {},
          "output_type": "execute_result"
        }
      ],
      "source": [
        "total_data"
      ],
      "id": "16480808"
    },
    {
      "cell_type": "code",
      "execution_count": null,
      "metadata": {
        "id": "71de6ec6"
      },
      "outputs": [],
      "source": [
        "# handel urls\n",
        "def remove_url(text):\n",
        "    url=re.compile(r'https?://S+|www\\.\\S+')\n",
        "    return url.sub(r'',text)\n",
        "def remove_html(text):\n",
        "    html = re.compile(r'<.*?>|&([a-z0-9]+|#[0-9]{1,6}|#x[0-9a-f]{1,6});')\n",
        "    return re.sub(html, '', text)"
      ],
      "id": "71de6ec6"
    },
    {
      "cell_type": "code",
      "execution_count": null,
      "metadata": {
        "id": "1677332f"
      },
      "outputs": [],
      "source": [
        "total_data['text']=total_data['text'].apply(lambda x:remove_url(x))\n",
        "total_data['text']=total_data['text'].apply(lambda x:remove_html(x))"
      ],
      "id": "1677332f"
    },
    {
      "cell_type": "code",
      "execution_count": null,
      "metadata": {
        "id": "43d9a0c9"
      },
      "outputs": [],
      "source": [
        "# convert to lower alphabates\n",
        "for i in range(len(total_data)):\n",
        "    total_data['text'][i].lower()"
      ],
      "id": "43d9a0c9"
    },
    {
      "cell_type": "code",
      "execution_count": null,
      "metadata": {
        "id": "d274056e",
        "outputId": "ca348bd0-a784-4855-d228-ef616825e70e"
      },
      "outputs": [
        {
          "name": "stdout",
          "output_type": "stream",
          "text": [
            "{'has', 'does', 'any', 'them', 'then', \"haven't\", 'each', 'their', 'that', 'below', 'in', 'needn', \"isn't\", 'she', 'until', 'ain', 'against', 'for', 'after', 'those', 'only', 'what', 'couldn', 'between', 'you', \"hadn't\", \"aren't\", 'not', 'some', 'into', 'both', 'yourself', 'too', 'just', 'won', 'while', \"doesn't\", 'no', 'had', 'shan', 'our', 'hasn', 'himself', 'didn', 'don', 'about', 'wasn', 'further', 'an', 'more', 'mustn', 'are', 'doesn', 'over', 'or', 'my', 'through', 'nor', 'isn', 'up', 'theirs', \"you've\", 'now', 'was', 'be', 'did', 'were', 'doing', \"mustn't\", \"needn't\", 'his', 'before', 'it', 'themselves', 'mightn', 'a', 'aren', 'the', 'ours', 'at', 'because', 'here', 'during', 'her', \"you'd\", 'how', \"wasn't\", \"you'll\", 'myself', 'weren', \"don't\", \"couldn't\", 'being', \"wouldn't\", 'but', 'few', \"hasn't\", \"shouldn't\", 'him', 'should', \"didn't\", \"weren't\", 'its', 'down', 'been', 'whom', 'is', 'and', 'there', 'i', 'where', \"she's\", 'herself', 'hadn', 'am', 'once', 't', 'with', 'o', 'itself', 'y', \"won't\", 'why', 'ourselves', 'do', 'so', 'which', 'on', 'most', 'from', 'these', 'very', 'm', 'hers', 'again', 'to', 'who', 'ma', 'we', 'd', 're', 'have', 'all', 's', 'of', 'haven', 'above', 'yourselves', 'out', 'will', \"you're\", 'same', \"shan't\", 'if', 've', 'other', 'having', 'yours', 'than', 'off', \"should've\", 'by', 'can', 'own', \"that'll\", 'as', 'when', \"it's\", 'shouldn', 'he', 'this', 'me', \"mightn't\", 'your', 'll', 'such', 'they', 'wouldn', 'under'}\n"
          ]
        }
      ],
      "source": [
        "stop_words=set(stopwords.words(\"english\"))\n",
        "print(stop_words)"
      ],
      "id": "d274056e"
    },
    {
      "cell_type": "code",
      "execution_count": null,
      "metadata": {
        "id": "0e0afd8c"
      },
      "outputs": [],
      "source": [
        "#tokenize text\n",
        "total_data['tokenized_text']=total_data['text'].apply(gensim.utils.simple_preprocess)"
      ],
      "id": "0e0afd8c"
    },
    {
      "cell_type": "code",
      "execution_count": null,
      "metadata": {
        "id": "c687e2d4",
        "outputId": "0bda36e9-6f54-4def-fcd5-b7a8c9b84403"
      },
      "outputs": [
        {
          "data": {
            "text/html": [
              "<div>\n",
              "<style scoped>\n",
              "    .dataframe tbody tr th:only-of-type {\n",
              "        vertical-align: middle;\n",
              "    }\n",
              "\n",
              "    .dataframe tbody tr th {\n",
              "        vertical-align: top;\n",
              "    }\n",
              "\n",
              "    .dataframe thead th {\n",
              "        text-align: right;\n",
              "    }\n",
              "</style>\n",
              "<table border=\"1\" class=\"dataframe\">\n",
              "  <thead>\n",
              "    <tr style=\"text-align: right;\">\n",
              "      <th></th>\n",
              "      <th>id</th>\n",
              "      <th>text</th>\n",
              "      <th>target</th>\n",
              "      <th>tokenized_text</th>\n",
              "    </tr>\n",
              "  </thead>\n",
              "  <tbody>\n",
              "    <tr>\n",
              "      <th>0</th>\n",
              "      <td>1</td>\n",
              "      <td>Our Deeds are the Reason of this #earthquake M...</td>\n",
              "      <td>1.0</td>\n",
              "      <td>[our, deeds, are, the, reason, of, this, earth...</td>\n",
              "    </tr>\n",
              "    <tr>\n",
              "      <th>1</th>\n",
              "      <td>4</td>\n",
              "      <td>Forest fire near La Ronge Sask. Canada</td>\n",
              "      <td>1.0</td>\n",
              "      <td>[forest, fire, near, la, ronge, sask, canada]</td>\n",
              "    </tr>\n",
              "    <tr>\n",
              "      <th>2</th>\n",
              "      <td>5</td>\n",
              "      <td>All residents asked to 'shelter in place' are ...</td>\n",
              "      <td>1.0</td>\n",
              "      <td>[all, residents, asked, to, shelter, in, place...</td>\n",
              "    </tr>\n",
              "    <tr>\n",
              "      <th>3</th>\n",
              "      <td>6</td>\n",
              "      <td>13,000 people receive #wildfires evacuation or...</td>\n",
              "      <td>1.0</td>\n",
              "      <td>[people, receive, wildfires, evacuation, order...</td>\n",
              "    </tr>\n",
              "    <tr>\n",
              "      <th>4</th>\n",
              "      <td>7</td>\n",
              "      <td>Just got sent this photo from Ruby #Alaska as ...</td>\n",
              "      <td>1.0</td>\n",
              "      <td>[just, got, sent, this, photo, from, ruby, ala...</td>\n",
              "    </tr>\n",
              "  </tbody>\n",
              "</table>\n",
              "</div>"
            ],
            "text/plain": [
              "   id                                               text  target  \\\n",
              "0   1  Our Deeds are the Reason of this #earthquake M...     1.0   \n",
              "1   4             Forest fire near La Ronge Sask. Canada     1.0   \n",
              "2   5  All residents asked to 'shelter in place' are ...     1.0   \n",
              "3   6  13,000 people receive #wildfires evacuation or...     1.0   \n",
              "4   7  Just got sent this photo from Ruby #Alaska as ...     1.0   \n",
              "\n",
              "                                      tokenized_text  \n",
              "0  [our, deeds, are, the, reason, of, this, earth...  \n",
              "1      [forest, fire, near, la, ronge, sask, canada]  \n",
              "2  [all, residents, asked, to, shelter, in, place...  \n",
              "3  [people, receive, wildfires, evacuation, order...  \n",
              "4  [just, got, sent, this, photo, from, ruby, ala...  "
            ]
          },
          "execution_count": 15,
          "metadata": {},
          "output_type": "execute_result"
        }
      ],
      "source": [
        "total_data.head()"
      ],
      "id": "c687e2d4"
    },
    {
      "cell_type": "code",
      "execution_count": null,
      "metadata": {
        "id": "8b788a38"
      },
      "outputs": [],
      "source": [
        "# remove stopwords\n",
        "def remove_stopwords(s):\n",
        "    cleantext=[]\n",
        "    for i in range(len(s)): \n",
        "        if(s[i] not in stop_words):\n",
        "                cleantext.append(s[i])\n",
        "    return cleantext\n"
      ],
      "id": "8b788a38"
    },
    {
      "cell_type": "code",
      "execution_count": null,
      "metadata": {
        "id": "39929c36",
        "outputId": "224ecb31-df3a-48f0-86b1-0bb09138ccd2"
      },
      "outputs": [
        {
          "data": {
            "text/html": [
              "<div>\n",
              "<style scoped>\n",
              "    .dataframe tbody tr th:only-of-type {\n",
              "        vertical-align: middle;\n",
              "    }\n",
              "\n",
              "    .dataframe tbody tr th {\n",
              "        vertical-align: top;\n",
              "    }\n",
              "\n",
              "    .dataframe thead th {\n",
              "        text-align: right;\n",
              "    }\n",
              "</style>\n",
              "<table border=\"1\" class=\"dataframe\">\n",
              "  <thead>\n",
              "    <tr style=\"text-align: right;\">\n",
              "      <th></th>\n",
              "      <th>id</th>\n",
              "      <th>text</th>\n",
              "      <th>target</th>\n",
              "      <th>tokenized_text</th>\n",
              "      <th>clean_tok_text</th>\n",
              "    </tr>\n",
              "  </thead>\n",
              "  <tbody>\n",
              "    <tr>\n",
              "      <th>0</th>\n",
              "      <td>1</td>\n",
              "      <td>Our Deeds are the Reason of this #earthquake M...</td>\n",
              "      <td>1.0</td>\n",
              "      <td>[our, deeds, are, the, reason, of, this, earth...</td>\n",
              "      <td>[deeds, reason, earthquake, may, allah, forgiv...</td>\n",
              "    </tr>\n",
              "    <tr>\n",
              "      <th>1</th>\n",
              "      <td>4</td>\n",
              "      <td>Forest fire near La Ronge Sask. Canada</td>\n",
              "      <td>1.0</td>\n",
              "      <td>[forest, fire, near, la, ronge, sask, canada]</td>\n",
              "      <td>[forest, fire, near, la, ronge, sask, canada]</td>\n",
              "    </tr>\n",
              "    <tr>\n",
              "      <th>2</th>\n",
              "      <td>5</td>\n",
              "      <td>All residents asked to 'shelter in place' are ...</td>\n",
              "      <td>1.0</td>\n",
              "      <td>[all, residents, asked, to, shelter, in, place...</td>\n",
              "      <td>[residents, asked, shelter, place, notified, o...</td>\n",
              "    </tr>\n",
              "    <tr>\n",
              "      <th>3</th>\n",
              "      <td>6</td>\n",
              "      <td>13,000 people receive #wildfires evacuation or...</td>\n",
              "      <td>1.0</td>\n",
              "      <td>[people, receive, wildfires, evacuation, order...</td>\n",
              "      <td>[people, receive, wildfires, evacuation, order...</td>\n",
              "    </tr>\n",
              "    <tr>\n",
              "      <th>4</th>\n",
              "      <td>7</td>\n",
              "      <td>Just got sent this photo from Ruby #Alaska as ...</td>\n",
              "      <td>1.0</td>\n",
              "      <td>[just, got, sent, this, photo, from, ruby, ala...</td>\n",
              "      <td>[got, sent, photo, ruby, alaska, smoke, wildfi...</td>\n",
              "    </tr>\n",
              "  </tbody>\n",
              "</table>\n",
              "</div>"
            ],
            "text/plain": [
              "   id                                               text  target  \\\n",
              "0   1  Our Deeds are the Reason of this #earthquake M...     1.0   \n",
              "1   4             Forest fire near La Ronge Sask. Canada     1.0   \n",
              "2   5  All residents asked to 'shelter in place' are ...     1.0   \n",
              "3   6  13,000 people receive #wildfires evacuation or...     1.0   \n",
              "4   7  Just got sent this photo from Ruby #Alaska as ...     1.0   \n",
              "\n",
              "                                      tokenized_text  \\\n",
              "0  [our, deeds, are, the, reason, of, this, earth...   \n",
              "1      [forest, fire, near, la, ronge, sask, canada]   \n",
              "2  [all, residents, asked, to, shelter, in, place...   \n",
              "3  [people, receive, wildfires, evacuation, order...   \n",
              "4  [just, got, sent, this, photo, from, ruby, ala...   \n",
              "\n",
              "                                      clean_tok_text  \n",
              "0  [deeds, reason, earthquake, may, allah, forgiv...  \n",
              "1      [forest, fire, near, la, ronge, sask, canada]  \n",
              "2  [residents, asked, shelter, place, notified, o...  \n",
              "3  [people, receive, wildfires, evacuation, order...  \n",
              "4  [got, sent, photo, ruby, alaska, smoke, wildfi...  "
            ]
          },
          "execution_count": 17,
          "metadata": {},
          "output_type": "execute_result"
        }
      ],
      "source": [
        "total_data['clean_tok_text']=total_data['tokenized_text'].apply(lambda x:remove_stopwords(x))\n",
        "total_data.head()"
      ],
      "id": "39929c36"
    },
    {
      "cell_type": "code",
      "execution_count": null,
      "metadata": {
        "id": "2a1f8732",
        "outputId": "fe6a6676-da44-4bc9-a8db-2ab96293b8e1"
      },
      "outputs": [
        {
          "data": {
            "text/plain": [
              "(10876, 5)"
            ]
          },
          "execution_count": 18,
          "metadata": {},
          "output_type": "execute_result"
        }
      ],
      "source": [
        "total_data.shape"
      ],
      "id": "2a1f8732"
    },
    {
      "cell_type": "code",
      "execution_count": null,
      "metadata": {
        "id": "dcb9c2fd",
        "outputId": "efa2fb69-2cee-462b-fb34-38c63657eaa3"
      },
      "outputs": [
        {
          "data": {
            "text/html": [
              "<div>\n",
              "<style scoped>\n",
              "    .dataframe tbody tr th:only-of-type {\n",
              "        vertical-align: middle;\n",
              "    }\n",
              "\n",
              "    .dataframe tbody tr th {\n",
              "        vertical-align: top;\n",
              "    }\n",
              "\n",
              "    .dataframe thead th {\n",
              "        text-align: right;\n",
              "    }\n",
              "</style>\n",
              "<table border=\"1\" class=\"dataframe\">\n",
              "  <thead>\n",
              "    <tr style=\"text-align: right;\">\n",
              "      <th></th>\n",
              "      <th>id</th>\n",
              "      <th>text</th>\n",
              "      <th>target</th>\n",
              "      <th>tokenized_text</th>\n",
              "      <th>clean_tok_text</th>\n",
              "      <th>final_text</th>\n",
              "    </tr>\n",
              "  </thead>\n",
              "  <tbody>\n",
              "    <tr>\n",
              "      <th>0</th>\n",
              "      <td>1</td>\n",
              "      <td>Our Deeds are the Reason of this #earthquake M...</td>\n",
              "      <td>1.0</td>\n",
              "      <td>[our, deeds, are, the, reason, of, this, earth...</td>\n",
              "      <td>[deeds, reason, earthquake, may, allah, forgiv...</td>\n",
              "      <td>deeds reason earthquake may allah forgive us</td>\n",
              "    </tr>\n",
              "    <tr>\n",
              "      <th>1</th>\n",
              "      <td>4</td>\n",
              "      <td>Forest fire near La Ronge Sask. Canada</td>\n",
              "      <td>1.0</td>\n",
              "      <td>[forest, fire, near, la, ronge, sask, canada]</td>\n",
              "      <td>[forest, fire, near, la, ronge, sask, canada]</td>\n",
              "      <td>forest fire near la ronge sask canada</td>\n",
              "    </tr>\n",
              "    <tr>\n",
              "      <th>2</th>\n",
              "      <td>5</td>\n",
              "      <td>All residents asked to 'shelter in place' are ...</td>\n",
              "      <td>1.0</td>\n",
              "      <td>[all, residents, asked, to, shelter, in, place...</td>\n",
              "      <td>[residents, asked, shelter, place, notified, o...</td>\n",
              "      <td>residents asked shelter place notified officer...</td>\n",
              "    </tr>\n",
              "    <tr>\n",
              "      <th>3</th>\n",
              "      <td>6</td>\n",
              "      <td>13,000 people receive #wildfires evacuation or...</td>\n",
              "      <td>1.0</td>\n",
              "      <td>[people, receive, wildfires, evacuation, order...</td>\n",
              "      <td>[people, receive, wildfires, evacuation, order...</td>\n",
              "      <td>people receive wildfires evacuation orders cal...</td>\n",
              "    </tr>\n",
              "    <tr>\n",
              "      <th>4</th>\n",
              "      <td>7</td>\n",
              "      <td>Just got sent this photo from Ruby #Alaska as ...</td>\n",
              "      <td>1.0</td>\n",
              "      <td>[just, got, sent, this, photo, from, ruby, ala...</td>\n",
              "      <td>[got, sent, photo, ruby, alaska, smoke, wildfi...</td>\n",
              "      <td>got sent photo ruby alaska smoke wildfires pou...</td>\n",
              "    </tr>\n",
              "  </tbody>\n",
              "</table>\n",
              "</div>"
            ],
            "text/plain": [
              "   id                                               text  target  \\\n",
              "0   1  Our Deeds are the Reason of this #earthquake M...     1.0   \n",
              "1   4             Forest fire near La Ronge Sask. Canada     1.0   \n",
              "2   5  All residents asked to 'shelter in place' are ...     1.0   \n",
              "3   6  13,000 people receive #wildfires evacuation or...     1.0   \n",
              "4   7  Just got sent this photo from Ruby #Alaska as ...     1.0   \n",
              "\n",
              "                                      tokenized_text  \\\n",
              "0  [our, deeds, are, the, reason, of, this, earth...   \n",
              "1      [forest, fire, near, la, ronge, sask, canada]   \n",
              "2  [all, residents, asked, to, shelter, in, place...   \n",
              "3  [people, receive, wildfires, evacuation, order...   \n",
              "4  [just, got, sent, this, photo, from, ruby, ala...   \n",
              "\n",
              "                                      clean_tok_text  \\\n",
              "0  [deeds, reason, earthquake, may, allah, forgiv...   \n",
              "1      [forest, fire, near, la, ronge, sask, canada]   \n",
              "2  [residents, asked, shelter, place, notified, o...   \n",
              "3  [people, receive, wildfires, evacuation, order...   \n",
              "4  [got, sent, photo, ruby, alaska, smoke, wildfi...   \n",
              "\n",
              "                                          final_text  \n",
              "0       deeds reason earthquake may allah forgive us  \n",
              "1              forest fire near la ronge sask canada  \n",
              "2  residents asked shelter place notified officer...  \n",
              "3  people receive wildfires evacuation orders cal...  \n",
              "4  got sent photo ruby alaska smoke wildfires pou...  "
            ]
          },
          "execution_count": 19,
          "metadata": {},
          "output_type": "execute_result"
        }
      ],
      "source": [
        "# join clean tokenized text\n",
        "def join_fun(text):\n",
        "    string=\" \"\n",
        "    ans=string.join(text)\n",
        "    return ans\n",
        "total_data['final_text']=total_data['clean_tok_text'].apply(lambda x:join_fun(x))\n",
        "total_data.head()"
      ],
      "id": "dcb9c2fd"
    },
    {
      "cell_type": "markdown",
      "metadata": {
        "id": "805f414d"
      },
      "source": [
        "# Predictions using Count Vectorizer"
      ],
      "id": "805f414d"
    },
    {
      "cell_type": "code",
      "execution_count": null,
      "metadata": {
        "id": "1127d488"
      },
      "outputs": [],
      "source": [
        "from sklearn.feature_extraction.text import CountVectorizer\n",
        "cv=CountVectorizer()\n",
        "\n",
        "vec=cv.fit_transform(total_data[\"final_text\"])"
      ],
      "id": "1127d488"
    },
    {
      "cell_type": "code",
      "execution_count": null,
      "metadata": {
        "id": "f509eea0",
        "outputId": "605d6009-15b5-4252-986c-2ad197d00f7b"
      },
      "outputs": [
        {
          "name": "stdout",
          "output_type": "stream",
          "text": [
            "(10876, 6) (10876, 28319)\n"
          ]
        }
      ],
      "source": [
        "print(total_data.shape,vec.shape)"
      ],
      "id": "f509eea0"
    },
    {
      "cell_type": "code",
      "execution_count": null,
      "metadata": {
        "id": "e16d80f8"
      },
      "outputs": [],
      "source": [
        "X=vec[:len(train_data)]\n",
        "y=train_data.target\n",
        "X_train,X_test,y_train,y_test=train_test_split(X,y,train_size=0.90)"
      ],
      "id": "e16d80f8"
    },
    {
      "cell_type": "code",
      "execution_count": null,
      "metadata": {
        "id": "5bb80bf4",
        "outputId": "0c3334f3-45a4-4336-c14c-7038b6a2a418"
      },
      "outputs": [
        {
          "data": {
            "text/plain": [
              "0.7650918635170604"
            ]
          },
          "execution_count": 23,
          "metadata": {},
          "output_type": "execute_result"
        }
      ],
      "source": [
        "model=RandomForestClassifier(n_estimators=65)\n",
        "model.fit(X_train,y_train)\n",
        "pred=model.predict(X_test)\n",
        "accuracy_score(pred,y_test)"
      ],
      "id": "5bb80bf4"
    },
    {
      "cell_type": "markdown",
      "metadata": {
        "id": "795c9ed1"
      },
      "source": [
        "# Using TfIdf Vectorizer\n",
        "TF-IDF is better than Count Vectorizers because it not only focuses on the frequency of words present in the corpus but also provides the importance of the words. We can then remove the words that are less important for analysis, hence making the model building less complex by reducing the input dimensions.\n"
      ],
      "id": "795c9ed1"
    },
    {
      "cell_type": "code",
      "execution_count": null,
      "metadata": {
        "id": "86e65179"
      },
      "outputs": [],
      "source": [
        "from sklearn.feature_extraction.text import TfidfVectorizer\n",
        "tfidfvec=TfidfVectorizer()\n",
        "\n",
        "vec1=tfidfvec.fit_transform(total_data[\"final_text\"])"
      ],
      "id": "86e65179"
    },
    {
      "cell_type": "code",
      "execution_count": null,
      "metadata": {
        "id": "60539d53"
      },
      "outputs": [],
      "source": [
        "X=vec1[:len(train_data)]\n",
        "y=train_data.target\n",
        "X_train,X_test,y_train,y_test=train_test_split(X,y,train_size=0.90)"
      ],
      "id": "60539d53"
    },
    {
      "cell_type": "code",
      "execution_count": null,
      "metadata": {
        "id": "fe22f2ab",
        "outputId": "93096b49-e9d4-4af1-be32-14b41be91422"
      },
      "outputs": [
        {
          "data": {
            "text/plain": [
              "0.7887139107611548"
            ]
          },
          "execution_count": 26,
          "metadata": {},
          "output_type": "execute_result"
        }
      ],
      "source": [
        "model=RandomForestClassifier(n_estimators=65)\n",
        "model.fit(X_train,y_train)\n",
        "pred=model.predict(X_test)\n",
        "accuracy_score(pred,y_test)"
      ],
      "id": "fe22f2ab"
    },
    {
      "cell_type": "code",
      "execution_count": null,
      "metadata": {
        "id": "bc758a89",
        "outputId": "b4b0ac44-c9ba-4874-cfad-dceb35a3ecf2"
      },
      "outputs": [
        {
          "data": {
            "text/plain": [
              "<3263x28319 sparse matrix of type '<class 'numpy.int64'>'\n",
              "\twith 35775 stored elements in Compressed Sparse Row format>"
            ]
          },
          "execution_count": 27,
          "metadata": {},
          "output_type": "execute_result"
        }
      ],
      "source": [
        "test_vac=vec[len(train_data):]\n",
        "test_vac"
      ],
      "id": "bc758a89"
    },
    {
      "cell_type": "markdown",
      "metadata": {
        "id": "3e5c937f"
      },
      "source": [
        "# BertTokenizier\n"
      ],
      "id": "3e5c937f"
    },
    {
      "cell_type": "code",
      "execution_count": null,
      "metadata": {
        "id": "eefbee58",
        "outputId": "512eef2a-fd9d-4f30-bbdb-2b8bb4255d98"
      },
      "outputs": [
        {
          "data": {
            "application/vnd.jupyter.widget-view+json": {
              "model_id": "81862dda5b3246518d6261326ea51f94",
              "version_major": 2,
              "version_minor": 0
            },
            "text/plain": [
              "Downloading:   0%|          | 0.00/734 [00:00<?, ?B/s]"
            ]
          },
          "metadata": {},
          "output_type": "display_data"
        },
        {
          "data": {
            "application/vnd.jupyter.widget-view+json": {
              "model_id": "de9d62b9bf7847c8b567dc189544b17d",
              "version_major": 2,
              "version_minor": 0
            },
            "text/plain": [
              "Downloading:   0%|          | 0.00/5.07M [00:00<?, ?B/s]"
            ]
          },
          "metadata": {},
          "output_type": "display_data"
        },
        {
          "data": {
            "application/vnd.jupyter.widget-view+json": {
              "model_id": "140fe249039a457a991952000746fc67",
              "version_major": 2,
              "version_minor": 0
            },
            "text/plain": [
              "Downloading:   0%|          | 0.00/150 [00:00<?, ?B/s]"
            ]
          },
          "metadata": {},
          "output_type": "display_data"
        },
        {
          "data": {
            "application/vnd.jupyter.widget-view+json": {
              "model_id": "08d328e0f2624b59b43da3f0292678ce",
              "version_major": 2,
              "version_minor": 0
            },
            "text/plain": [
              "Downloading:   0%|          | 0.00/25.0 [00:00<?, ?B/s]"
            ]
          },
          "metadata": {},
          "output_type": "display_data"
        }
      ],
      "source": [
        "from transformers import BertTokenizer, TFBertModel, TFAutoModel,AutoTokenizer\n",
        "model_name ='joeddav/xlm-roberta-large-xnli'\n",
        "tokenizer = AutoTokenizer.from_pretrained(model_name)"
      ],
      "id": "eefbee58"
    },
    {
      "cell_type": "code",
      "execution_count": null,
      "metadata": {
        "id": "4ff920c6"
      },
      "outputs": [],
      "source": [
        "def encode_sentence(s):\n",
        "    tokens=[]\n",
        "    tokens.append('[CLS]')\n",
        "    tokens+=list(tokenizer.tokenize(s))\n",
        "#     print(tokens)\n",
        "    return tokenizer.convert_tokens_to_ids(tokens)"
      ],
      "id": "4ff920c6"
    },
    {
      "cell_type": "code",
      "execution_count": null,
      "metadata": {
        "id": "d272521f"
      },
      "outputs": [],
      "source": [
        "main_data=total_data['final_text']\n",
        "main_data=pd.DataFrame(main_data)"
      ],
      "id": "d272521f"
    },
    {
      "cell_type": "code",
      "execution_count": null,
      "metadata": {
        "id": "1f686271",
        "outputId": "812e52df-6945-4bdb-8f49-0438534615e5"
      },
      "outputs": [
        {
          "data": {
            "text/html": [
              "<div>\n",
              "<style scoped>\n",
              "    .dataframe tbody tr th:only-of-type {\n",
              "        vertical-align: middle;\n",
              "    }\n",
              "\n",
              "    .dataframe tbody tr th {\n",
              "        vertical-align: top;\n",
              "    }\n",
              "\n",
              "    .dataframe thead th {\n",
              "        text-align: right;\n",
              "    }\n",
              "</style>\n",
              "<table border=\"1\" class=\"dataframe\">\n",
              "  <thead>\n",
              "    <tr style=\"text-align: right;\">\n",
              "      <th></th>\n",
              "      <th>final_text</th>\n",
              "    </tr>\n",
              "  </thead>\n",
              "  <tbody>\n",
              "    <tr>\n",
              "      <th>0</th>\n",
              "      <td>deeds reason earthquake may allah forgive us</td>\n",
              "    </tr>\n",
              "    <tr>\n",
              "      <th>1</th>\n",
              "      <td>forest fire near la ronge sask canada</td>\n",
              "    </tr>\n",
              "    <tr>\n",
              "      <th>2</th>\n",
              "      <td>residents asked shelter place notified officer...</td>\n",
              "    </tr>\n",
              "    <tr>\n",
              "      <th>3</th>\n",
              "      <td>people receive wildfires evacuation orders cal...</td>\n",
              "    </tr>\n",
              "    <tr>\n",
              "      <th>4</th>\n",
              "      <td>got sent photo ruby alaska smoke wildfires pou...</td>\n",
              "    </tr>\n",
              "  </tbody>\n",
              "</table>\n",
              "</div>"
            ],
            "text/plain": [
              "                                          final_text\n",
              "0       deeds reason earthquake may allah forgive us\n",
              "1              forest fire near la ronge sask canada\n",
              "2  residents asked shelter place notified officer...\n",
              "3  people receive wildfires evacuation orders cal...\n",
              "4  got sent photo ruby alaska smoke wildfires pou..."
            ]
          },
          "execution_count": 31,
          "metadata": {},
          "output_type": "execute_result"
        }
      ],
      "source": [
        "main_data.head()"
      ],
      "id": "1f686271"
    },
    {
      "cell_type": "code",
      "execution_count": null,
      "metadata": {
        "id": "668d38f2",
        "outputId": "2f8bacd7-8496-4164-b200-82467def677c"
      },
      "outputs": [
        {
          "data": {
            "text/plain": [
              "[3, 8, 297, 7, 31635, 109270, 13722, 350, 1543, 6, 40077, 100, 96259, 1821]"
            ]
          },
          "execution_count": 32,
          "metadata": {},
          "output_type": "execute_result"
        }
      ],
      "source": [
        "encode_sentence(main_data['final_text'][0])"
      ],
      "id": "668d38f2"
    },
    {
      "cell_type": "code",
      "execution_count": null,
      "metadata": {
        "id": "02a7b660"
      },
      "outputs": [],
      "source": [
        "tokenized=[]\n",
        "for i in range(len(main_data)):\n",
        "    tokenized.append(encode_sentence(main_data['final_text'][i]))\n",
        "main_data['tokenized']=tokenized"
      ],
      "id": "02a7b660"
    },
    {
      "cell_type": "code",
      "execution_count": null,
      "metadata": {
        "id": "a13b0762",
        "outputId": "541d802f-d3be-4155-9301-e67a99ea5148"
      },
      "outputs": [
        {
          "data": {
            "text/html": [
              "<div>\n",
              "<style scoped>\n",
              "    .dataframe tbody tr th:only-of-type {\n",
              "        vertical-align: middle;\n",
              "    }\n",
              "\n",
              "    .dataframe tbody tr th {\n",
              "        vertical-align: top;\n",
              "    }\n",
              "\n",
              "    .dataframe thead th {\n",
              "        text-align: right;\n",
              "    }\n",
              "</style>\n",
              "<table border=\"1\" class=\"dataframe\">\n",
              "  <thead>\n",
              "    <tr style=\"text-align: right;\">\n",
              "      <th></th>\n",
              "      <th>final_text</th>\n",
              "      <th>tokenized</th>\n",
              "      <th>target</th>\n",
              "    </tr>\n",
              "  </thead>\n",
              "  <tbody>\n",
              "    <tr>\n",
              "      <th>0</th>\n",
              "      <td>deeds reason earthquake may allah forgive us</td>\n",
              "      <td>[3, 8, 297, 7, 31635, 109270, 13722, 350, 1543...</td>\n",
              "      <td>1.0</td>\n",
              "    </tr>\n",
              "    <tr>\n",
              "      <th>1</th>\n",
              "      <td>forest fire near la ronge sask canada</td>\n",
              "      <td>[3, 100, 525, 11476, 43573, 21, 107629, 13, 57...</td>\n",
              "      <td>1.0</td>\n",
              "    </tr>\n",
              "    <tr>\n",
              "      <th>2</th>\n",
              "      <td>residents asked shelter place notified officer...</td>\n",
              "      <td>[3, 160641, 37170, 2412, 1277, 56, 3687, 959, ...</td>\n",
              "      <td>1.0</td>\n",
              "    </tr>\n",
              "    <tr>\n",
              "      <th>3</th>\n",
              "      <td>people receive wildfires evacuation orders cal...</td>\n",
              "      <td>[3, 3395, 53299, 56409, 73702, 7, 166499, 1363...</td>\n",
              "      <td>1.0</td>\n",
              "    </tr>\n",
              "    <tr>\n",
              "      <th>4</th>\n",
              "      <td>got sent photo ruby alaska smoke wildfires pou...</td>\n",
              "      <td>[3, 4163, 9325, 16186, 21922, 53, 10, 68465, 2...</td>\n",
              "      <td>1.0</td>\n",
              "    </tr>\n",
              "    <tr>\n",
              "      <th>...</th>\n",
              "      <td>...</td>\n",
              "      <td>...</td>\n",
              "      <td>...</td>\n",
              "    </tr>\n",
              "    <tr>\n",
              "      <th>10871</th>\n",
              "      <td>earthquake safety los angeles ûò safety fasten...</td>\n",
              "      <td>[3, 109270, 13722, 350, 81900, 388, 61909, 90,...</td>\n",
              "      <td>NaN</td>\n",
              "    </tr>\n",
              "    <tr>\n",
              "      <th>10872</th>\n",
              "      <td>storm ri worse last hurricane city others hard...</td>\n",
              "      <td>[3, 77076, 1427, 124632, 4568, 3587, 12056, 86...</td>\n",
              "      <td>NaN</td>\n",
              "    </tr>\n",
              "    <tr>\n",
              "      <th>10873</th>\n",
              "      <td>green line derailment chicago http co utbxlcbiuy</td>\n",
              "      <td>[3, 50997, 13315, 8, 68823, 674, 87904, 519, 1...</td>\n",
              "      <td>NaN</td>\n",
              "    </tr>\n",
              "    <tr>\n",
              "      <th>10874</th>\n",
              "      <td>meg issues hazardous weather outlook hwo http ...</td>\n",
              "      <td>[3, 721, 37348, 141033, 10821, 92949, 6, 20646...</td>\n",
              "      <td>NaN</td>\n",
              "    </tr>\n",
              "    <tr>\n",
              "      <th>10875</th>\n",
              "      <td>cityofcalgary activated municipal emergency pl...</td>\n",
              "      <td>[3, 26349, 4390, 6827, 1970, 53, 34704, 3674, ...</td>\n",
              "      <td>NaN</td>\n",
              "    </tr>\n",
              "  </tbody>\n",
              "</table>\n",
              "<p>10876 rows × 3 columns</p>\n",
              "</div>"
            ],
            "text/plain": [
              "                                              final_text  \\\n",
              "0           deeds reason earthquake may allah forgive us   \n",
              "1                  forest fire near la ronge sask canada   \n",
              "2      residents asked shelter place notified officer...   \n",
              "3      people receive wildfires evacuation orders cal...   \n",
              "4      got sent photo ruby alaska smoke wildfires pou...   \n",
              "...                                                  ...   \n",
              "10871  earthquake safety los angeles ûò safety fasten...   \n",
              "10872  storm ri worse last hurricane city others hard...   \n",
              "10873   green line derailment chicago http co utbxlcbiuy   \n",
              "10874  meg issues hazardous weather outlook hwo http ...   \n",
              "10875  cityofcalgary activated municipal emergency pl...   \n",
              "\n",
              "                                               tokenized  target  \n",
              "0      [3, 8, 297, 7, 31635, 109270, 13722, 350, 1543...     1.0  \n",
              "1      [3, 100, 525, 11476, 43573, 21, 107629, 13, 57...     1.0  \n",
              "2      [3, 160641, 37170, 2412, 1277, 56, 3687, 959, ...     1.0  \n",
              "3      [3, 3395, 53299, 56409, 73702, 7, 166499, 1363...     1.0  \n",
              "4      [3, 4163, 9325, 16186, 21922, 53, 10, 68465, 2...     1.0  \n",
              "...                                                  ...     ...  \n",
              "10871  [3, 109270, 13722, 350, 81900, 388, 61909, 90,...     NaN  \n",
              "10872  [3, 77076, 1427, 124632, 4568, 3587, 12056, 86...     NaN  \n",
              "10873  [3, 50997, 13315, 8, 68823, 674, 87904, 519, 1...     NaN  \n",
              "10874  [3, 721, 37348, 141033, 10821, 92949, 6, 20646...     NaN  \n",
              "10875  [3, 26349, 4390, 6827, 1970, 53, 34704, 3674, ...     NaN  \n",
              "\n",
              "[10876 rows x 3 columns]"
            ]
          },
          "execution_count": 34,
          "metadata": {},
          "output_type": "execute_result"
        }
      ],
      "source": [
        "main_data['target']=total_data['target']\n",
        "main_data"
      ],
      "id": "a13b0762"
    },
    {
      "cell_type": "markdown",
      "metadata": {
        "id": "3e6cab62"
      },
      "source": [
        "# Attention Mask and Token Type ID:"
      ],
      "id": "3e6cab62"
    },
    {
      "cell_type": "code",
      "execution_count": null,
      "metadata": {
        "id": "dea66641",
        "outputId": "1d2f3415-e18f-4993-e250-d011c2654da5"
      },
      "outputs": [
        {
          "data": {
            "text/html": [
              "<div>\n",
              "<style scoped>\n",
              "    .dataframe tbody tr th:only-of-type {\n",
              "        vertical-align: middle;\n",
              "    }\n",
              "\n",
              "    .dataframe tbody tr th {\n",
              "        vertical-align: top;\n",
              "    }\n",
              "\n",
              "    .dataframe thead th {\n",
              "        text-align: right;\n",
              "    }\n",
              "</style>\n",
              "<table border=\"1\" class=\"dataframe\">\n",
              "  <thead>\n",
              "    <tr style=\"text-align: right;\">\n",
              "      <th></th>\n",
              "      <th>final_text</th>\n",
              "      <th>tokenized</th>\n",
              "      <th>target</th>\n",
              "      <th>masked</th>\n",
              "    </tr>\n",
              "  </thead>\n",
              "  <tbody>\n",
              "    <tr>\n",
              "      <th>0</th>\n",
              "      <td>deeds reason earthquake may allah forgive us</td>\n",
              "      <td>[3, 8, 297, 7, 31635, 109270, 13722, 350, 1543...</td>\n",
              "      <td>1.0</td>\n",
              "      <td>[input_ids, attention_mask]</td>\n",
              "    </tr>\n",
              "    <tr>\n",
              "      <th>1</th>\n",
              "      <td>forest fire near la ronge sask canada</td>\n",
              "      <td>[3, 100, 525, 11476, 43573, 21, 107629, 13, 57...</td>\n",
              "      <td>1.0</td>\n",
              "      <td>[input_ids, attention_mask]</td>\n",
              "    </tr>\n",
              "    <tr>\n",
              "      <th>2</th>\n",
              "      <td>residents asked shelter place notified officer...</td>\n",
              "      <td>[3, 160641, 37170, 2412, 1277, 56, 3687, 959, ...</td>\n",
              "      <td>1.0</td>\n",
              "      <td>[input_ids, attention_mask]</td>\n",
              "    </tr>\n",
              "    <tr>\n",
              "      <th>3</th>\n",
              "      <td>people receive wildfires evacuation orders cal...</td>\n",
              "      <td>[3, 3395, 53299, 56409, 73702, 7, 166499, 1363...</td>\n",
              "      <td>1.0</td>\n",
              "      <td>[input_ids, attention_mask]</td>\n",
              "    </tr>\n",
              "    <tr>\n",
              "      <th>4</th>\n",
              "      <td>got sent photo ruby alaska smoke wildfires pou...</td>\n",
              "      <td>[3, 4163, 9325, 16186, 21922, 53, 10, 68465, 2...</td>\n",
              "      <td>1.0</td>\n",
              "      <td>[input_ids, attention_mask]</td>\n",
              "    </tr>\n",
              "  </tbody>\n",
              "</table>\n",
              "</div>"
            ],
            "text/plain": [
              "                                          final_text  \\\n",
              "0       deeds reason earthquake may allah forgive us   \n",
              "1              forest fire near la ronge sask canada   \n",
              "2  residents asked shelter place notified officer...   \n",
              "3  people receive wildfires evacuation orders cal...   \n",
              "4  got sent photo ruby alaska smoke wildfires pou...   \n",
              "\n",
              "                                           tokenized  target  \\\n",
              "0  [3, 8, 297, 7, 31635, 109270, 13722, 350, 1543...     1.0   \n",
              "1  [3, 100, 525, 11476, 43573, 21, 107629, 13, 57...     1.0   \n",
              "2  [3, 160641, 37170, 2412, 1277, 56, 3687, 959, ...     1.0   \n",
              "3  [3, 3395, 53299, 56409, 73702, 7, 166499, 1363...     1.0   \n",
              "4  [3, 4163, 9325, 16186, 21922, 53, 10, 68465, 2...     1.0   \n",
              "\n",
              "                        masked  \n",
              "0  [input_ids, attention_mask]  \n",
              "1  [input_ids, attention_mask]  \n",
              "2  [input_ids, attention_mask]  \n",
              "3  [input_ids, attention_mask]  \n",
              "4  [input_ids, attention_mask]  "
            ]
          },
          "execution_count": 35,
          "metadata": {},
          "output_type": "execute_result"
        }
      ],
      "source": [
        "# see the documentations\n",
        "\n",
        "mask=[]\n",
        "for i in range(len(main_data)):\n",
        "    padded_seq=tokenizer(main_data['final_text'][i],padding=True,add_special_tokens =True)\n",
        "    mask.append(padded_seq)\n",
        "\n",
        "main_data['masked']=mask\n",
        "main_data.head()"
      ],
      "id": "dea66641"
    },
    {
      "cell_type": "markdown",
      "metadata": {
        "id": "d877e5b8"
      },
      "source": [
        "# Train Model"
      ],
      "id": "d877e5b8"
    },
    {
      "cell_type": "code",
      "execution_count": null,
      "metadata": {
        "id": "7f9d0540"
      },
      "outputs": [],
      "source": [
        "max_len=32\n",
        "def build_model():\n",
        "    bert_encoder = TFAutoModel.from_pretrained('joeddav/xlm-roberta-large-xnli')\n",
        "    input_word_ids = tf.keras.Input(shape=(max_len,), dtype=tf.int32, name=\"input_word_ids\")\n",
        "    input_mask = tf.keras.Input(shape=(max_len,), dtype=tf.int32, name=\"input_mask\")\n",
        "    embedding = bert_encoder([input_word_ids, input_mask])[0]\n",
        "    output = tf.keras.layers.Dense(3, activation='softmax')(embedding[:,0,:])\n",
        "    \n",
        "    model = tf.keras.Model(inputs=[input_word_ids, input_mask], outputs=output)\n",
        "    model.compile(tf.keras.optimizers.Adam(lr=1e-5), loss='sparse_categorical_crossentropy', metrics=['accuracy'])\n",
        "    \n",
        "    return model"
      ],
      "id": "7f9d0540"
    },
    {
      "cell_type": "code",
      "execution_count": null,
      "metadata": {
        "id": "ed2a744d"
      },
      "outputs": [],
      "source": [
        "def input_convert(data):\n",
        "    inputs={\n",
        "        'input_word_ids':[],\n",
        "        'input_mask':[]\n",
        "    }\n",
        "    for each in data:\n",
        "        inputs['input_word_ids'].append(each['input_ids'])\n",
        "        inputs['input_mask'].append(each['attention_mask'])\n",
        "        \n",
        "    \n",
        "    inputs['input_word_ids']= tf.ragged.constant( inputs['input_word_ids']).to_tensor()\n",
        "    inputs['input_mask']= tf.ragged.constant( inputs['input_mask']).to_tensor()\n",
        "    return inputs"
      ],
      "id": "ed2a744d"
    },
    {
      "cell_type": "code",
      "execution_count": null,
      "metadata": {
        "id": "e98a82f5",
        "outputId": "5a6d925f-0c79-43cd-8174-010cd93ab41f"
      },
      "outputs": [
        {
          "data": {
            "text/html": [
              "<div>\n",
              "<style scoped>\n",
              "    .dataframe tbody tr th:only-of-type {\n",
              "        vertical-align: middle;\n",
              "    }\n",
              "\n",
              "    .dataframe tbody tr th {\n",
              "        vertical-align: top;\n",
              "    }\n",
              "\n",
              "    .dataframe thead th {\n",
              "        text-align: right;\n",
              "    }\n",
              "</style>\n",
              "<table border=\"1\" class=\"dataframe\">\n",
              "  <thead>\n",
              "    <tr style=\"text-align: right;\">\n",
              "      <th></th>\n",
              "      <th>final_text</th>\n",
              "      <th>tokenized</th>\n",
              "      <th>target</th>\n",
              "      <th>masked</th>\n",
              "    </tr>\n",
              "  </thead>\n",
              "  <tbody>\n",
              "    <tr>\n",
              "      <th>0</th>\n",
              "      <td>deeds reason earthquake may allah forgive us</td>\n",
              "      <td>[3, 8, 297, 7, 31635, 109270, 13722, 350, 1543...</td>\n",
              "      <td>1.0</td>\n",
              "      <td>[input_ids, attention_mask]</td>\n",
              "    </tr>\n",
              "    <tr>\n",
              "      <th>1</th>\n",
              "      <td>forest fire near la ronge sask canada</td>\n",
              "      <td>[3, 100, 525, 11476, 43573, 21, 107629, 13, 57...</td>\n",
              "      <td>1.0</td>\n",
              "      <td>[input_ids, attention_mask]</td>\n",
              "    </tr>\n",
              "    <tr>\n",
              "      <th>2</th>\n",
              "      <td>residents asked shelter place notified officer...</td>\n",
              "      <td>[3, 160641, 37170, 2412, 1277, 56, 3687, 959, ...</td>\n",
              "      <td>1.0</td>\n",
              "      <td>[input_ids, attention_mask]</td>\n",
              "    </tr>\n",
              "    <tr>\n",
              "      <th>3</th>\n",
              "      <td>people receive wildfires evacuation orders cal...</td>\n",
              "      <td>[3, 3395, 53299, 56409, 73702, 7, 166499, 1363...</td>\n",
              "      <td>1.0</td>\n",
              "      <td>[input_ids, attention_mask]</td>\n",
              "    </tr>\n",
              "    <tr>\n",
              "      <th>4</th>\n",
              "      <td>got sent photo ruby alaska smoke wildfires pou...</td>\n",
              "      <td>[3, 4163, 9325, 16186, 21922, 53, 10, 68465, 2...</td>\n",
              "      <td>1.0</td>\n",
              "      <td>[input_ids, attention_mask]</td>\n",
              "    </tr>\n",
              "    <tr>\n",
              "      <th>...</th>\n",
              "      <td>...</td>\n",
              "      <td>...</td>\n",
              "      <td>...</td>\n",
              "      <td>...</td>\n",
              "    </tr>\n",
              "    <tr>\n",
              "      <th>7608</th>\n",
              "      <td>two giant cranes holding bridge collapse nearb...</td>\n",
              "      <td>[3, 6626, 6051, 18, 6, 15182, 1444, 104064, 6,...</td>\n",
              "      <td>1.0</td>\n",
              "      <td>[input_ids, attention_mask]</td>\n",
              "    </tr>\n",
              "    <tr>\n",
              "      <th>7609</th>\n",
              "      <td>aria_ahrary thetawniest control wild fires cal...</td>\n",
              "      <td>[3, 6, 6232, 454, 11, 11894, 1294, 70, 102, 63...</td>\n",
              "      <td>1.0</td>\n",
              "      <td>[input_ids, attention_mask]</td>\n",
              "    </tr>\n",
              "    <tr>\n",
              "      <th>7610</th>\n",
              "      <td>utc km volcano hawaii http co zdtoyd ebj</td>\n",
              "      <td>[3, 486, 238, 1785, 2741, 38938, 19896, 1573, ...</td>\n",
              "      <td>1.0</td>\n",
              "      <td>[input_ids, attention_mask]</td>\n",
              "    </tr>\n",
              "    <tr>\n",
              "      <th>7611</th>\n",
              "      <td>police investigating bike collided car little ...</td>\n",
              "      <td>[3, 35206, 32603, 1916, 15528, 61770, 48141, 2...</td>\n",
              "      <td>1.0</td>\n",
              "      <td>[input_ids, attention_mask]</td>\n",
              "    </tr>\n",
              "    <tr>\n",
              "      <th>7612</th>\n",
              "      <td>latest homes razed northern california wildfir...</td>\n",
              "      <td>[3, 42850, 44556, 1954, 297, 144477, 9022, 729...</td>\n",
              "      <td>1.0</td>\n",
              "      <td>[input_ids, attention_mask]</td>\n",
              "    </tr>\n",
              "  </tbody>\n",
              "</table>\n",
              "<p>7613 rows × 4 columns</p>\n",
              "</div>"
            ],
            "text/plain": [
              "                                             final_text  \\\n",
              "0          deeds reason earthquake may allah forgive us   \n",
              "1                 forest fire near la ronge sask canada   \n",
              "2     residents asked shelter place notified officer...   \n",
              "3     people receive wildfires evacuation orders cal...   \n",
              "4     got sent photo ruby alaska smoke wildfires pou...   \n",
              "...                                                 ...   \n",
              "7608  two giant cranes holding bridge collapse nearb...   \n",
              "7609  aria_ahrary thetawniest control wild fires cal...   \n",
              "7610           utc km volcano hawaii http co zdtoyd ebj   \n",
              "7611  police investigating bike collided car little ...   \n",
              "7612  latest homes razed northern california wildfir...   \n",
              "\n",
              "                                              tokenized  target  \\\n",
              "0     [3, 8, 297, 7, 31635, 109270, 13722, 350, 1543...     1.0   \n",
              "1     [3, 100, 525, 11476, 43573, 21, 107629, 13, 57...     1.0   \n",
              "2     [3, 160641, 37170, 2412, 1277, 56, 3687, 959, ...     1.0   \n",
              "3     [3, 3395, 53299, 56409, 73702, 7, 166499, 1363...     1.0   \n",
              "4     [3, 4163, 9325, 16186, 21922, 53, 10, 68465, 2...     1.0   \n",
              "...                                                 ...     ...   \n",
              "7608  [3, 6626, 6051, 18, 6, 15182, 1444, 104064, 6,...     1.0   \n",
              "7609  [3, 6, 6232, 454, 11, 11894, 1294, 70, 102, 63...     1.0   \n",
              "7610  [3, 486, 238, 1785, 2741, 38938, 19896, 1573, ...     1.0   \n",
              "7611  [3, 35206, 32603, 1916, 15528, 61770, 48141, 2...     1.0   \n",
              "7612  [3, 42850, 44556, 1954, 297, 144477, 9022, 729...     1.0   \n",
              "\n",
              "                           masked  \n",
              "0     [input_ids, attention_mask]  \n",
              "1     [input_ids, attention_mask]  \n",
              "2     [input_ids, attention_mask]  \n",
              "3     [input_ids, attention_mask]  \n",
              "4     [input_ids, attention_mask]  \n",
              "...                           ...  \n",
              "7608  [input_ids, attention_mask]  \n",
              "7609  [input_ids, attention_mask]  \n",
              "7610  [input_ids, attention_mask]  \n",
              "7611  [input_ids, attention_mask]  \n",
              "7612  [input_ids, attention_mask]  \n",
              "\n",
              "[7613 rows x 4 columns]"
            ]
          },
          "execution_count": 38,
          "metadata": {},
          "output_type": "execute_result"
        }
      ],
      "source": [
        "\n",
        "data_for_predictions=main_data[len(train_data):]\n",
        "data_for_fitting=main_data[:len(train_data)]\n",
        "data_for_fitting\n",
        "    "
      ],
      "id": "e98a82f5"
    },
    {
      "cell_type": "code",
      "execution_count": null,
      "metadata": {
        "id": "90ae9bda"
      },
      "outputs": [],
      "source": [
        "train_input=input_convert(data_for_fitting['masked'].values)\n",
        "for key in train_input.keys():\n",
        "    train_input[key] = train_input[key][:,:max_len]"
      ],
      "id": "90ae9bda"
    },
    {
      "cell_type": "code",
      "execution_count": null,
      "metadata": {
        "id": "fde5bc1d",
        "outputId": "029dbd77-db9f-4ef4-9244-1a661bc48589"
      },
      "outputs": [
        {
          "data": {
            "text/plain": [
              "{'input_word_ids': <tf.Tensor: shape=(7613, 32), dtype=int32, numpy=\n",
              " array([[     0,      8,    297, ...,      0,      0,      0],\n",
              "        [     0,    100,    525, ...,      0,      0,      0],\n",
              "        [     0, 160641,  37170, ...,      0,      0,      0],\n",
              "        ...,\n",
              "        [     0,    486,    238, ...,      0,      0,      0],\n",
              "        [     0,  35206,  32603, ...,      0,      0,      0],\n",
              "        [     0,  42850,  44556, ...,      0,      0,      0]], dtype=int32)>,\n",
              " 'input_mask': <tf.Tensor: shape=(7613, 32), dtype=int32, numpy=\n",
              " array([[1, 1, 1, ..., 0, 0, 0],\n",
              "        [1, 1, 1, ..., 0, 0, 0],\n",
              "        [1, 1, 1, ..., 0, 0, 0],\n",
              "        ...,\n",
              "        [1, 1, 1, ..., 0, 0, 0],\n",
              "        [1, 1, 1, ..., 0, 0, 0],\n",
              "        [1, 1, 1, ..., 0, 0, 0]], dtype=int32)>}"
            ]
          },
          "execution_count": 40,
          "metadata": {},
          "output_type": "execute_result"
        }
      ],
      "source": [
        "train_input"
      ],
      "id": "fde5bc1d"
    },
    {
      "cell_type": "code",
      "execution_count": null,
      "metadata": {
        "id": "3ec89495",
        "outputId": "5993e2f0-6fc8-4eb3-bb80-1cdb0be5eea6"
      },
      "outputs": [
        {
          "data": {
            "application/vnd.jupyter.widget-view+json": {
              "model_id": "574662d85dd949b6b478a053121767f8",
              "version_major": 2,
              "version_minor": 0
            },
            "text/plain": [
              "Downloading:   0%|          | 0.00/2.24G [00:00<?, ?B/s]"
            ]
          },
          "metadata": {},
          "output_type": "display_data"
        },
        {
          "name": "stderr",
          "output_type": "stream",
          "text": [
            "Some layers from the model checkpoint at joeddav/xlm-roberta-large-xnli were not used when initializing TFXLMRobertaModel: ['classifier']\n",
            "- This IS expected if you are initializing TFXLMRobertaModel from the checkpoint of a model trained on another task or with another architecture (e.g. initializing a BertForSequenceClassification model from a BertForPreTraining model).\n",
            "- This IS NOT expected if you are initializing TFXLMRobertaModel from the checkpoint of a model that you expect to be exactly identical (initializing a BertForSequenceClassification model from a BertForSequenceClassification model).\n",
            "All the layers of TFXLMRobertaModel were initialized from the model checkpoint at joeddav/xlm-roberta-large-xnli.\n",
            "If your task is similar to the task the model of the checkpoint was trained on, you can already use TFXLMRobertaModel for predictions without further training.\n"
          ]
        },
        {
          "name": "stdout",
          "output_type": "stream",
          "text": [
            "Model: \"model\"\n",
            "__________________________________________________________________________________________________\n",
            "Layer (type)                    Output Shape         Param #     Connected to                     \n",
            "==================================================================================================\n",
            "input_word_ids (InputLayer)     [(None, 32)]         0                                            \n",
            "__________________________________________________________________________________________________\n",
            "input_mask (InputLayer)         [(None, 32)]         0                                            \n",
            "__________________________________________________________________________________________________\n",
            "tfxlm_roberta_model (TFXLMRober TFBaseModelOutputWit 559890432   input_word_ids[0][0]             \n",
            "                                                                 input_mask[0][0]                 \n",
            "__________________________________________________________________________________________________\n",
            "tf.__operators__.getitem (Slici (None, 1024)         0           tfxlm_roberta_model[0][0]        \n",
            "__________________________________________________________________________________________________\n",
            "dense (Dense)                   (None, 3)            3075        tf.__operators__.getitem[0][0]   \n",
            "==================================================================================================\n",
            "Total params: 559,893,507\n",
            "Trainable params: 559,893,507\n",
            "Non-trainable params: 0\n",
            "__________________________________________________________________________________________________\n",
            "Epoch 1/5\n"
          ]
        },
        {
          "name": "stderr",
          "output_type": "stream",
          "text": [
            "/opt/conda/lib/python3.7/site-packages/tensorflow/python/framework/indexed_slices.py:430: UserWarning: Converting sparse IndexedSlices to a dense Tensor with 256002048 elements. This may consume a large amount of memory.\n",
            "  num_elements)\n"
          ]
        },
        {
          "name": "stdout",
          "output_type": "stream",
          "text": [
            "54/54 [==============================] - 240s 2s/step - loss: 0.6837 - accuracy: 0.6249 - val_loss: 0.4140 - val_accuracy: 0.8281\n",
            "Epoch 2/5\n",
            "54/54 [==============================] - 10s 183ms/step - loss: 0.4254 - accuracy: 0.8247 - val_loss: 0.4805 - val_accuracy: 0.7966\n",
            "Epoch 3/5\n",
            "54/54 [==============================] - 10s 183ms/step - loss: 0.4056 - accuracy: 0.8294 - val_loss: 0.4478 - val_accuracy: 0.8202\n",
            "Epoch 4/5\n",
            "54/54 [==============================] - 10s 183ms/step - loss: 0.3632 - accuracy: 0.8547 - val_loss: 0.4391 - val_accuracy: 0.8241\n"
          ]
        }
      ],
      "source": [
        "early_stop=tf.keras.callbacks.EarlyStopping(patience=3,restore_best_weights=True)\n",
        "with strategy.scope():\n",
        "    model=build_model()\n",
        "    model.summary()\n",
        "    model.fit(train_input,main_data['target'].values,epochs=5,verbose=1,batch_size=128,validation_split=0.1,callbacks=[early_stop])"
      ],
      "id": "3ec89495"
    },
    {
      "cell_type": "markdown",
      "metadata": {
        "id": "3fbd4476"
      },
      "source": [
        "# predictions"
      ],
      "id": "3fbd4476"
    },
    {
      "cell_type": "code",
      "execution_count": null,
      "metadata": {
        "id": "6acc9ff1"
      },
      "outputs": [],
      "source": [
        "test_input=input_convert(data_for_predictions['masked'].values)\n",
        "for key in train_input.keys():\n",
        "    test_input[key] = test_input[key][:,:max_len]\n",
        "\n",
        "predictions=[np.argmax(i) for i in model.predict(test_input)]"
      ],
      "id": "6acc9ff1"
    },
    {
      "cell_type": "code",
      "execution_count": null,
      "metadata": {
        "id": "2f9c61bc"
      },
      "outputs": [],
      "source": [
        "submission['target']=predictions\n",
        "submission.to_csv(\"submission.csv\",index=False)"
      ],
      "id": "2f9c61bc"
    },
    {
      "cell_type": "code",
      "execution_count": null,
      "metadata": {
        "id": "220c65db",
        "outputId": "ce44fcaf-27f0-4629-ec3e-ce0c56876bc8"
      },
      "outputs": [
        {
          "data": {
            "text/html": [
              "<div>\n",
              "<style scoped>\n",
              "    .dataframe tbody tr th:only-of-type {\n",
              "        vertical-align: middle;\n",
              "    }\n",
              "\n",
              "    .dataframe tbody tr th {\n",
              "        vertical-align: top;\n",
              "    }\n",
              "\n",
              "    .dataframe thead th {\n",
              "        text-align: right;\n",
              "    }\n",
              "</style>\n",
              "<table border=\"1\" class=\"dataframe\">\n",
              "  <thead>\n",
              "    <tr style=\"text-align: right;\">\n",
              "      <th></th>\n",
              "      <th>id</th>\n",
              "      <th>target</th>\n",
              "    </tr>\n",
              "  </thead>\n",
              "  <tbody>\n",
              "    <tr>\n",
              "      <th>0</th>\n",
              "      <td>0</td>\n",
              "      <td>1</td>\n",
              "    </tr>\n",
              "    <tr>\n",
              "      <th>1</th>\n",
              "      <td>2</td>\n",
              "      <td>1</td>\n",
              "    </tr>\n",
              "    <tr>\n",
              "      <th>2</th>\n",
              "      <td>3</td>\n",
              "      <td>1</td>\n",
              "    </tr>\n",
              "    <tr>\n",
              "      <th>3</th>\n",
              "      <td>9</td>\n",
              "      <td>1</td>\n",
              "    </tr>\n",
              "    <tr>\n",
              "      <th>4</th>\n",
              "      <td>11</td>\n",
              "      <td>1</td>\n",
              "    </tr>\n",
              "    <tr>\n",
              "      <th>5</th>\n",
              "      <td>12</td>\n",
              "      <td>1</td>\n",
              "    </tr>\n",
              "    <tr>\n",
              "      <th>6</th>\n",
              "      <td>21</td>\n",
              "      <td>0</td>\n",
              "    </tr>\n",
              "    <tr>\n",
              "      <th>7</th>\n",
              "      <td>22</td>\n",
              "      <td>0</td>\n",
              "    </tr>\n",
              "    <tr>\n",
              "      <th>8</th>\n",
              "      <td>27</td>\n",
              "      <td>0</td>\n",
              "    </tr>\n",
              "    <tr>\n",
              "      <th>9</th>\n",
              "      <td>29</td>\n",
              "      <td>0</td>\n",
              "    </tr>\n",
              "  </tbody>\n",
              "</table>\n",
              "</div>"
            ],
            "text/plain": [
              "   id  target\n",
              "0   0       1\n",
              "1   2       1\n",
              "2   3       1\n",
              "3   9       1\n",
              "4  11       1\n",
              "5  12       1\n",
              "6  21       0\n",
              "7  22       0\n",
              "8  27       0\n",
              "9  29       0"
            ]
          },
          "execution_count": 44,
          "metadata": {},
          "output_type": "execute_result"
        }
      ],
      "source": [
        "submission.head(10)"
      ],
      "id": "220c65db"
    },
    {
      "cell_type": "code",
      "execution_count": null,
      "metadata": {
        "id": "390929b6"
      },
      "outputs": [],
      "source": [
        ""
      ],
      "id": "390929b6"
    }
  ],
  "metadata": {
    "colab": {
      "name": "nlp2.ipynb",
      "provenance": []
    },
    "kernelspec": {
      "display_name": "Python 3",
      "language": "python",
      "name": "python3"
    },
    "language_info": {
      "codemirror_mode": {
        "name": "ipython",
        "version": 3
      },
      "file_extension": ".py",
      "mimetype": "text/x-python",
      "name": "python",
      "nbconvert_exporter": "python",
      "pygments_lexer": "ipython3",
      "version": "3.7.10"
    },
    "papermill": {
      "default_parameters": {},
      "duration": 514.976917,
      "end_time": "2022-02-19T18:22:33.329458",
      "environment_variables": {},
      "exception": null,
      "input_path": "__notebook__.ipynb",
      "output_path": "__notebook__.ipynb",
      "parameters": {},
      "start_time": "2022-02-19T18:13:58.352541",
      "version": "2.3.3"
    }
  },
  "nbformat": 4,
  "nbformat_minor": 5
}
